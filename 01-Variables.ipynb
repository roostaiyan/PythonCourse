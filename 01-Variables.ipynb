{
  "cells": [
    {
      "cell_type": "code",
      "execution_count": null,
      "metadata": {
        "id": "3q-RnqhQ0KAz",
        "outputId": "f5ac7eef-567b-4af4-b050-3a11a04081ef"
      },
      "outputs": [
        {
          "data": {
            "text/plain": [
              "11"
            ]
          },
          "execution_count": 1,
          "metadata": {},
          "output_type": "execute_result"
        }
      ],
      "source": [
        "5+6+7+8"
      ]
    },
    {
      "cell_type": "code",
      "execution_count": null,
      "metadata": {
        "id": "Div6oBnr0KA6",
        "outputId": "4053d8b5-eb7b-4c6a-9315-78a93e9f69af"
      },
      "outputs": [
        {
          "data": {
            "text/plain": [
              "1994"
            ]
          },
          "execution_count": 2,
          "metadata": {},
          "output_type": "execute_result"
        }
      ],
      "source": [
        "1500 + 494"
      ]
    },
    {
      "cell_type": "code",
      "execution_count": null,
      "metadata": {
        "id": "YnABdiC10KA8",
        "outputId": "99d7d682-6732-450c-b82b-70778f91bb63"
      },
      "outputs": [
        {
          "data": {
            "text/plain": [
              "128.57142857142858"
            ]
          },
          "execution_count": 3,
          "metadata": {},
          "output_type": "execute_result"
        }
      ],
      "source": [
        "900/7"
      ]
    },
    {
      "cell_type": "code",
      "execution_count": null,
      "metadata": {
        "id": "ql0QLFgP0KA8",
        "outputId": "910a1567-f1a2-4288-ba05-bc2fb0adfbcb"
      },
      "outputs": [
        {
          "data": {
            "text/plain": [
              "300"
            ]
          },
          "execution_count": 4,
          "metadata": {},
          "output_type": "execute_result"
        }
      ],
      "source": [
        "500 - 200"
      ]
    },
    {
      "cell_type": "code",
      "execution_count": null,
      "metadata": {
        "id": "rppGjVu80KA9",
        "outputId": "d1fe5d40-ff9f-4815-f938-7ba835be7a40"
      },
      "outputs": [
        {
          "data": {
            "text/plain": [
              "120"
            ]
          },
          "execution_count": 5,
          "metadata": {},
          "output_type": "execute_result"
        }
      ],
      "source": [
        "30 * 4"
      ]
    },
    {
      "cell_type": "code",
      "execution_count": null,
      "metadata": {
        "id": "HSQTMaBm0KA-",
        "outputId": "4286d606-e822-4d6e-e1f0-740fa4e90771"
      },
      "outputs": [
        {
          "data": {
            "text/plain": [
              "8"
            ]
          },
          "execution_count": 6,
          "metadata": {},
          "output_type": "execute_result"
        }
      ],
      "source": [
        "2 * 2 * 2"
      ]
    },
    {
      "cell_type": "code",
      "execution_count": null,
      "metadata": {
        "id": "vcl1EZaG0KA_",
        "outputId": "79503f8f-779e-4159-c2e6-0fde3d9dd4f9"
      },
      "outputs": [
        {
          "data": {
            "text/plain": [
              "8"
            ]
          },
          "execution_count": 7,
          "metadata": {},
          "output_type": "execute_result"
        }
      ],
      "source": [
        "2 ** 3"
      ]
    },
    {
      "cell_type": "code",
      "execution_count": null,
      "metadata": {
        "id": "cF8pPprQ0KBA",
        "outputId": "a5c601d4-1a48-4af4-84b9-12ac7c7e2987"
      },
      "outputs": [
        {
          "data": {
            "text/plain": [
              "512"
            ]
          },
          "execution_count": 8,
          "metadata": {},
          "output_type": "execute_result"
        }
      ],
      "source": [
        "2**9"
      ]
    },
    {
      "cell_type": "code",
      "execution_count": null,
      "metadata": {
        "id": "KMb7xbOh0KBB",
        "outputId": "1954dccd-e18b-4258-d835-8f5b974cf50c"
      },
      "outputs": [
        {
          "data": {
            "text/plain": [
              "0"
            ]
          },
          "execution_count": 9,
          "metadata": {},
          "output_type": "execute_result"
        }
      ],
      "source": [
        "10 % 2"
      ]
    },
    {
      "cell_type": "code",
      "execution_count": null,
      "metadata": {
        "id": "eZ33lMsn0KBC",
        "outputId": "395f2fd8-7c3a-444a-efd3-46dd447b3581"
      },
      "outputs": [
        {
          "data": {
            "text/plain": [
              "1"
            ]
          },
          "execution_count": 10,
          "metadata": {},
          "output_type": "execute_result"
        }
      ],
      "source": [
        "11%2"
      ]
    },
    {
      "cell_type": "code",
      "execution_count": null,
      "metadata": {
        "id": "WqcW6mMq0KBD",
        "outputId": "7848ac3b-1282-4dd0-a8d2-2828539bc955"
      },
      "outputs": [
        {
          "data": {
            "text/plain": [
              "2"
            ]
          },
          "execution_count": 11,
          "metadata": {},
          "output_type": "execute_result"
        }
      ],
      "source": [
        "11%3"
      ]
    },
    {
      "cell_type": "code",
      "execution_count": null,
      "metadata": {
        "id": "VAaweZ2-0KBD",
        "outputId": "12c818f9-a38a-47b6-ea08-64877db743ce"
      },
      "outputs": [
        {
          "data": {
            "text/plain": [
              "1.5"
            ]
          },
          "execution_count": 12,
          "metadata": {},
          "output_type": "execute_result"
        }
      ],
      "source": [
        "0.5 * 3"
      ]
    },
    {
      "cell_type": "markdown",
      "metadata": {
        "id": "NcL8shfX0KBE"
      },
      "source": [
        "## Integer"
      ]
    },
    {
      "cell_type": "code",
      "execution_count": null,
      "metadata": {
        "id": "s95DkKlE0KBH",
        "outputId": "1f25f670-1f78-43dc-bcc3-ead0ff6836aa"
      },
      "outputs": [
        {
          "data": {
            "text/plain": [
              "6"
            ]
          },
          "execution_count": 13,
          "metadata": {},
          "output_type": "execute_result"
        }
      ],
      "source": [
        "3 + 3"
      ]
    },
    {
      "cell_type": "markdown",
      "metadata": {
        "id": "qYEOEkST0KBI"
      },
      "source": [
        "## Float"
      ]
    },
    {
      "cell_type": "code",
      "execution_count": null,
      "metadata": {
        "id": "6Om5tMvA0KBK",
        "outputId": "d065d221-bab7-40e2-998e-4ee95fc2f435"
      },
      "outputs": [
        {
          "data": {
            "text/plain": [
              "1.2000000000000002"
            ]
          },
          "execution_count": 14,
          "metadata": {},
          "output_type": "execute_result"
        }
      ],
      "source": [
        "0.4 * 3.0"
      ]
    },
    {
      "cell_type": "code",
      "execution_count": null,
      "metadata": {
        "id": "hGHZFWEm0KBP",
        "outputId": "046eae29-b44c-4075-d559-1df3d721fcca"
      },
      "outputs": [
        {
          "data": {
            "text/plain": [
              "8"
            ]
          },
          "execution_count": 15,
          "metadata": {},
          "output_type": "execute_result"
        }
      ],
      "source": [
        "3 + 5"
      ]
    },
    {
      "cell_type": "markdown",
      "metadata": {
        "id": "LVYqQVg20KBP"
      },
      "source": [
        "## Variables"
      ]
    },
    {
      "cell_type": "code",
      "execution_count": null,
      "metadata": {
        "id": "4PgyP70z0KBQ"
      },
      "outputs": [],
      "source": [
        "x = 3"
      ]
    },
    {
      "cell_type": "code",
      "execution_count": null,
      "metadata": {
        "id": "YY4KpFCe0KBQ"
      },
      "outputs": [],
      "source": [
        "y = 5"
      ]
    },
    {
      "cell_type": "code",
      "execution_count": null,
      "metadata": {
        "id": "t7y11VpN0KBQ",
        "outputId": "c3680fe8-464a-411f-dc4c-5428a83d5986"
      },
      "outputs": [
        {
          "data": {
            "text/plain": [
              "8"
            ]
          },
          "execution_count": 18,
          "metadata": {},
          "output_type": "execute_result"
        }
      ],
      "source": [
        "x+y"
      ]
    },
    {
      "cell_type": "code",
      "execution_count": null,
      "metadata": {
        "id": "KjDMi-rs0KBR",
        "outputId": "9d798d0e-e9a1-4623-f08c-e3e3ce936a34"
      },
      "outputs": [
        {
          "data": {
            "text/plain": [
              "243"
            ]
          },
          "execution_count": 19,
          "metadata": {},
          "output_type": "execute_result"
        }
      ],
      "source": [
        "x**y"
      ]
    },
    {
      "cell_type": "code",
      "execution_count": null,
      "metadata": {
        "id": "ojJV5mxT0KBS"
      },
      "outputs": [],
      "source": [
        "x = 4"
      ]
    },
    {
      "cell_type": "code",
      "execution_count": null,
      "metadata": {
        "id": "TRgygRNh0KBT",
        "outputId": "123b18af-86b7-430f-e9aa-68be863f4496"
      },
      "outputs": [
        {
          "data": {
            "text/plain": [
              "9"
            ]
          },
          "execution_count": 21,
          "metadata": {},
          "output_type": "execute_result"
        }
      ],
      "source": [
        "x+y"
      ]
    },
    {
      "cell_type": "code",
      "execution_count": null,
      "metadata": {
        "id": "ihCVj1tT0KBT",
        "outputId": "3f7fadf7-7c91-450d-8099-23add80db09e"
      },
      "outputs": [
        {
          "name": "stdout",
          "output_type": "stream",
          "text": [
            "r: 5\n"
          ]
        }
      ],
      "source": [
        "r = input(\"r: \")"
      ]
    },
    {
      "cell_type": "code",
      "execution_count": null,
      "metadata": {
        "id": "80DyBoC50KBU",
        "outputId": "d9d34ea8-c62f-47f1-cf47-372115112ec0"
      },
      "outputs": [
        {
          "data": {
            "text/plain": [
              "int"
            ]
          },
          "execution_count": 26,
          "metadata": {},
          "output_type": "execute_result"
        }
      ],
      "source": [
        "type(x)"
      ]
    },
    {
      "cell_type": "code",
      "execution_count": null,
      "metadata": {
        "id": "QQs6bODd0KBV"
      },
      "outputs": [],
      "source": [
        "pi = 3.14"
      ]
    },
    {
      "cell_type": "code",
      "execution_count": null,
      "metadata": {
        "id": "QvoJgiF60KBW",
        "outputId": "d9fc72f0-1d04-40dc-dbce-5d45d52a7cc1"
      },
      "outputs": [
        {
          "data": {
            "text/plain": [
              "float"
            ]
          },
          "execution_count": 28,
          "metadata": {},
          "output_type": "execute_result"
        }
      ],
      "source": [
        "type(pi)"
      ]
    },
    {
      "cell_type": "code",
      "execution_count": null,
      "metadata": {
        "id": "lApb79En0KBW",
        "outputId": "35bc8759-697a-4616-e17d-b4073242e3cd"
      },
      "outputs": [
        {
          "data": {
            "text/plain": [
              "'5'"
            ]
          },
          "execution_count": 29,
          "metadata": {},
          "output_type": "execute_result"
        }
      ],
      "source": [
        "r"
      ]
    },
    {
      "cell_type": "code",
      "execution_count": null,
      "metadata": {
        "id": "Tz4Fexvj0KBX",
        "outputId": "3140ae63-c41d-4178-ab8d-26adc8b0f445"
      },
      "outputs": [
        {
          "data": {
            "text/plain": [
              "str"
            ]
          },
          "execution_count": 30,
          "metadata": {},
          "output_type": "execute_result"
        }
      ],
      "source": [
        "type(r)"
      ]
    },
    {
      "cell_type": "code",
      "execution_count": null,
      "metadata": {
        "id": "pWCX4K0k0KBY",
        "outputId": "1716988e-7231-4d2a-d3cf-06624687de07"
      },
      "outputs": [
        {
          "data": {
            "text/plain": [
              "12.56"
            ]
          },
          "execution_count": 31,
          "metadata": {},
          "output_type": "execute_result"
        }
      ],
      "source": [
        "x * pi"
      ]
    },
    {
      "cell_type": "code",
      "execution_count": null,
      "metadata": {
        "id": "Aqr8cUqx0KBY"
      },
      "outputs": [],
      "source": [
        "r_int = int(r)"
      ]
    },
    {
      "cell_type": "code",
      "execution_count": null,
      "metadata": {
        "id": "H2jKNDob0KBZ",
        "outputId": "279947f8-50d2-4aef-a356-37027160a3df"
      },
      "outputs": [
        {
          "data": {
            "text/plain": [
              "5"
            ]
          },
          "execution_count": 36,
          "metadata": {},
          "output_type": "execute_result"
        }
      ],
      "source": [
        "r_int"
      ]
    },
    {
      "cell_type": "code",
      "execution_count": null,
      "metadata": {
        "id": "KGeOHgCB0KBa",
        "outputId": "289774be-b7a5-436d-b420-50ddd07c7e13"
      },
      "outputs": [
        {
          "data": {
            "text/plain": [
              "int"
            ]
          },
          "execution_count": 37,
          "metadata": {},
          "output_type": "execute_result"
        }
      ],
      "source": [
        "type(r_int)"
      ]
    },
    {
      "cell_type": "code",
      "execution_count": null,
      "metadata": {
        "id": "MLta4Yry0KBa",
        "outputId": "583d7f66-f772-4276-d2d6-958d93230f33"
      },
      "outputs": [
        {
          "data": {
            "text/plain": [
              "31.400000000000002"
            ]
          },
          "execution_count": 38,
          "metadata": {},
          "output_type": "execute_result"
        }
      ],
      "source": [
        "r_int * pi * 2"
      ]
    },
    {
      "cell_type": "code",
      "execution_count": null,
      "metadata": {
        "id": "ABndwibe0KBb"
      },
      "outputs": [],
      "source": []
    }
  ],
  "metadata": {
    "kernelspec": {
      "display_name": "Python 3",
      "language": "python",
      "name": "python3"
    },
    "language_info": {
      "codemirror_mode": {
        "name": "ipython",
        "version": 3
      },
      "file_extension": ".py",
      "mimetype": "text/x-python",
      "name": "python",
      "nbconvert_exporter": "python",
      "pygments_lexer": "ipython3",
      "version": "3.6.4"
    },
    "colab": {
      "provenance": []
    }
  },
  "nbformat": 4,
  "nbformat_minor": 0
}